{
 "cells": [
  {
   "cell_type": "code",
   "execution_count": 1,
   "metadata": {},
   "outputs": [],
   "source": [
    "from estimate_entropy import meta_main, get_args\n",
    "from tools import plot_entropy, plot_pdf\n",
    "from os.path import join\n",
    "\n",
    "import sys\n",
    "sys.path.append('./doe')\n",
    "\n",
    "from doe.main import get_args, meta_main\n",
    "from tools import plot_mi_run, plot_mi_bias_var_mse, collect_mi\n",
    "from mi_estimators import main\n",
    "\n",
    "cuda = False"
   ]
  },
  {
   "cell_type": "markdown",
   "metadata": {},
   "source": [
    "### MI estimation of Gaussian random variables in Section 3.2.2"
   ]
  },
  {
   "cell_type": "code",
   "execution_count": null,
   "metadata": {
    "scrolled": false
   },
   "outputs": [
    {
     "name": "stderr",
     "output_type": "stream",
     "text": [
      "Models:   0%|                                                                                                                                                                                   | 0/2 [00:00<?, ?it/s]\n",
      "Training Loop: 100%|█████████████████████████████████████████████████████████████████████████████████████████████████████████████████████████████████████████████████████████████| 5000/5000 [00:31<00:00, 159.97it/s]\u001b[A\n",
      "\n",
      "Training Loop:   0%|▌                                                                                                                                                              | 17/5000 [00:00<00:29, 166.38it/s]\u001b[A"
     ]
    },
    {
     "name": "stdout",
     "output_type": "stream",
     "text": [
      "finish training for TUBA with true MI value = 2.000000\n"
     ]
    },
    {
     "name": "stderr",
     "output_type": "stream",
     "text": [
      "Training Loop: 100%|█████████████████████████████████████████████████████████████████████████████████████████████████████████████████████████████████████████████████████████████| 5000/5000 [00:29<00:00, 166.72it/s]\n",
      "\n",
      "Training Loop:   0%|█                                                                                                                                                                                                                                                                                                                    | 17/5000 [00:00<00:29, 167.53it/s]"
     ]
    },
    {
     "name": "stdout",
     "output_type": "stream",
     "text": [
      "finish training for TUBA with true MI value = 4.000000\n"
     ]
    },
    {
     "name": "stderr",
     "output_type": "stream",
     "text": [
      "Training Loop: 100%|████████████████████████████████████████████████████████████████████████████████████████████████████████████████████████████████████████████████████████████████████████████████████████████████████████████████████████████████████████████████████████████████████████████████████████████████████████████████████| 5000/5000 [17:09<00:00,  4.86it/s]\n",
      "\n",
      "Training Loop:   0%|▉                                                                                                                                                                                                                                                                                                                    | 16/5000 [00:00<00:31, 158.00it/s]"
     ]
    },
    {
     "name": "stdout",
     "output_type": "stream",
     "text": [
      "finish training for TUBA with true MI value = 6.000000\n"
     ]
    },
    {
     "name": "stderr",
     "output_type": "stream",
     "text": [
      "Training Loop: 100%|████████████████████████████████████████████████████████████████████████████████████████████████████████████████████████████████████████████████████████████████████████████████████████████████████████████████████████████████████████████████████████████████████████████████████████████████████████████████████| 5000/5000 [30:39<00:00,  2.72it/s]\n",
      "\n",
      "Training Loop:   0%|█                                                                                                                                                                                                                                                                                                                    | 18/5000 [00:00<00:29, 169.87it/s]"
     ]
    },
    {
     "name": "stdout",
     "output_type": "stream",
     "text": [
      "finish training for TUBA with true MI value = 8.000000\n"
     ]
    },
    {
     "name": "stderr",
     "output_type": "stream",
     "text": [
      "Training Loop: 100%|██████████████████████████████████████████████████████████████████████████████████████████████████████████████████████████████████████████████████████████████████████████████████████████████████████████████████████████████████████████████████████████████████████████████████████████████████████████████████| 5000/5000 [1:08:29<00:00,  1.22it/s]\n",
      "\n",
      "MI: 100%|███████████████████████████████████████████████████████████████████████████████████████████████████████████████████████████████████████████████████████████████████████████| 5/5 [1:57:19<00:00, 1407.91s/it]\u001b[A\n",
      "Models:  50%|██████████████████████████████████████████████████████████████████████████████████▌                                                                                  | 1/2 [1:57:19<1:57:19, 7039.56s/it]\n",
      "Training Loop:   0%|▏                                                                                                                                                                                                                                                                                                                      | 3/5000 [00:00<02:58, 27.99it/s]\u001b[A"
     ]
    },
    {
     "name": "stdout",
     "output_type": "stream",
     "text": [
      "finish training for TUBA with true MI value = 10.000000\n",
      "model TUBA average time cost is 0.281582 s\n"
     ]
    },
    {
     "name": "stderr",
     "output_type": "stream",
     "text": [
      "Training Loop: 100%|██████████████████████████████████████████████████████████████████████████████████████████████████████████████████████████████████████████████████████████████████████████████████████████████████████████████████████████████████████████████████████████████████████████████████████████████████████████████████| 5000/5000 [4:28:30<00:00,  3.22s/it]\n",
      "\n",
      "Training Loop:   0%|▏                                                                                                                                                                                                                                                                                                                      | 4/5000 [00:00<02:33, 32.48it/s]\u001b[A"
     ]
    },
    {
     "name": "stdout",
     "output_type": "stream",
     "text": [
      "finish training for MIKernelEstimator with true MI value = 2.000000\n"
     ]
    },
    {
     "name": "stderr",
     "output_type": "stream",
     "text": [
      "Training Loop: 100%|██████████████████████████████████████████████████████████████████████████████████████████████████████████████████████████████████████████████████████████████████████████████████████████████████████████████████████████████████████████████████████████████████████████████████████████████████████████████████| 5000/5000 [3:34:45<00:00,  2.58s/it]\n",
      "\n",
      "Training Loop:   0%|▏                                                                                                                                                                                                                                                                                                                      | 4/5000 [00:00<02:34, 32.30it/s]\u001b[A"
     ]
    },
    {
     "name": "stdout",
     "output_type": "stream",
     "text": [
      "finish training for MIKernelEstimator with true MI value = 4.000000\n"
     ]
    },
    {
     "name": "stderr",
     "output_type": "stream",
     "text": [
      "Training Loop: 100%|████████████████████████████████████████████████████████████████████████████████████████████████████████████████████████████████████████████████████████████████████████████████████████████████████████████████████████████████████████████████████████████████████████████████████████████████████████████████████| 5000/5000 [05:34<00:00, 14.94it/s]\n",
      "\n",
      "Training Loop:   0%|▏                                                                                                                                                                | 4/5000 [00:00<02:36, 31.90it/s]                                                                                                                 | 3/5 [8:08:50<5:56:40, 10700.46s/it]\u001b[A"
     ]
    },
    {
     "name": "stdout",
     "output_type": "stream",
     "text": [
      "finish training for MIKernelEstimator with true MI value = 6.000000\n"
     ]
    },
    {
     "name": "stderr",
     "output_type": "stream",
     "text": [
      "Training Loop: 100%|██████████████████████████████████████████████████████████████████████████████████████████████████████████████████████████████████████████████████████████████| 5000/5000 [02:37<00:00, 31.72it/s]\n",
      "\n",
      "Training Loop:   0%|▏                                                                                                                                                                | 4/5000 [00:00<02:33, 32.44it/s]██████████████████████████████████████████████████▏                                                               | 4/5 [8:11:28<2:05:37, 7537.61s/it]\u001b[A"
     ]
    },
    {
     "name": "stdout",
     "output_type": "stream",
     "text": [
      "finish training for MIKernelEstimator with true MI value = 8.000000\n"
     ]
    },
    {
     "name": "stderr",
     "output_type": "stream",
     "text": [
      "Training Loop: 100%|██████████████████████████████████████████████████████████████████████████████████████████████████████████████████████████████████████████████████████████████| 5000/5000 [02:36<00:00, 31.96it/s]\n",
      "\n",
      "MI: 100%|█████████████████████████████████████████████████████████████████████████████████████████████████████████████████████████████████████████████████████████████████████████████████████████████████████████████████████████████████████████████████████████████████████████████████████████████████████████████████████████████████| 5/5 [8:14:04<00:00, 5928.89s/it]\u001b[A\n",
      "Models: 100%|█████████████████████████████████████████████████████████████████████████████████████████████████████████████████████████████████████████████████████████████████████| 2/2 [10:11:24<00:00, 18342.02s/it]\n"
     ]
    },
    {
     "name": "stdout",
     "output_type": "stream",
     "text": [
      "finish training for MIKernelEstimator with true MI value = 10.000000\n",
      "model KNIFE average time cost is 1.185779 s\n"
     ]
    },
    {
     "name": "stderr",
     "output_type": "stream",
     "text": [
      "2it [00:00, 2028.19it/s]"
     ]
    },
    {
     "name": "stdout",
     "output_type": "stream",
     "text": [
      "Second part\n"
     ]
    },
    {
     "name": "stderr",
     "output_type": "stream",
     "text": [
      "\n",
      "Models:   0%|                                                                                                                                                                                   | 0/2 [00:00<?, ?it/s]\n",
      "Training Loop: 100%|█████████████████████████████████████████████████████████████████████████████████████████████████████████████████████████████████████████████████████████████| 5000/5000 [00:29<00:00, 169.34it/s]\u001b[A\n",
      "\n",
      "Training Loop:   0%|▌                                                                                                                                                              | 18/5000 [00:00<00:28, 173.00it/s]\u001b[A"
     ]
    },
    {
     "name": "stdout",
     "output_type": "stream",
     "text": [
      "finish training for TUBA with true MI value = 2.000000\n"
     ]
    },
    {
     "name": "stderr",
     "output_type": "stream",
     "text": [
      "Training Loop: 100%|█████████████████████████████████████████████████████████████████████████████████████████████████████████████████████████████████████████████████████████████| 5000/5000 [00:29<00:00, 167.11it/s]\n",
      "\n",
      "Training Loop:   0%|▌                                                                                                                                                              | 16/5000 [00:00<00:32, 153.68it/s]\u001b[A"
     ]
    },
    {
     "name": "stdout",
     "output_type": "stream",
     "text": [
      "finish training for TUBA with true MI value = 4.000000\n"
     ]
    },
    {
     "name": "stderr",
     "output_type": "stream",
     "text": [
      "Training Loop: 100%|█████████████████████████████████████████████████████████████████████████████████████████████████████████████████████████████████████████████████████████████| 5000/5000 [00:29<00:00, 167.22it/s]\n",
      "\n",
      "Training Loop:   0%|▌                                                                                                                                                              | 17/5000 [00:00<00:29, 168.18it/s]\u001b[A"
     ]
    },
    {
     "name": "stdout",
     "output_type": "stream",
     "text": [
      "finish training for TUBA with true MI value = 6.000000\n"
     ]
    },
    {
     "name": "stderr",
     "output_type": "stream",
     "text": [
      "Training Loop: 100%|█████████████████████████████████████████████████████████████████████████████████████████████████████████████████████████████████████████████████████████████| 5000/5000 [00:29<00:00, 168.82it/s]\n",
      "\n",
      "Training Loop:   0%|▌                                                                                                                                                              | 18/5000 [00:00<00:29, 171.65it/s]\u001b[A"
     ]
    },
    {
     "name": "stdout",
     "output_type": "stream",
     "text": [
      "finish training for TUBA with true MI value = 8.000000\n"
     ]
    },
    {
     "name": "stderr",
     "output_type": "stream",
     "text": [
      "Training Loop: 100%|█████████████████████████████████████████████████████████████████████████████████████████████████████████████████████████████████████████████████████████████| 5000/5000 [00:29<00:00, 170.24it/s]\n",
      "\n",
      "MI: 100%|███████████████████████████████████████████████████████████████████████████████████████████████████████████████████████████████████████████████████████████████████████████████| 5/5 [02:28<00:00, 29.67s/it]\u001b[A\n",
      "Models:  50%|█████████████████████████████████████████████████████████████████████████████████████                                                                                     | 1/2 [02:28<02:28, 148.34s/it]\n",
      "Training Loop:   0%|▏                                                                                                                                                                | 4/5000 [00:00<02:38, 31.57it/s]\u001b[A"
     ]
    },
    {
     "name": "stdout",
     "output_type": "stream",
     "text": [
      "finish training for TUBA with true MI value = 10.000000\n",
      "model TUBA average time cost is 0.005934 s\n"
     ]
    },
    {
     "name": "stderr",
     "output_type": "stream",
     "text": [
      "Training Loop: 100%|██████████████████████████████████████████████████████████████████████████████████████████████████████████████████████████████████████████████████████████████| 5000/5000 [02:36<00:00, 31.87it/s]\n",
      "\n",
      "Training Loop:   0%|▏                                                                                                                                                                | 4/5000 [00:00<02:37, 31.78it/s]\u001b[A"
     ]
    },
    {
     "name": "stdout",
     "output_type": "stream",
     "text": [
      "finish training for MIKernelEstimator with true MI value = 2.000000\n"
     ]
    },
    {
     "name": "stderr",
     "output_type": "stream",
     "text": [
      "Training Loop: 100%|██████████████████████████████████████████████████████████████████████████████████████████████████████████████████████████████████████████████████████████████| 5000/5000 [02:39<00:00, 31.27it/s]\n",
      "\n",
      "Training Loop:   0%|▏                                                                                                                                                                | 4/5000 [00:00<02:43, 30.64it/s]\u001b[A"
     ]
    },
    {
     "name": "stdout",
     "output_type": "stream",
     "text": [
      "finish training for MIKernelEstimator with true MI value = 4.000000\n"
     ]
    },
    {
     "name": "stderr",
     "output_type": "stream",
     "text": [
      "Training Loop: 100%|██████████████████████████████████████████████████████████████████████████████████████████████████████████████████████████████████████████████████████████████| 5000/5000 [02:46<00:00, 30.10it/s]\n",
      "\n",
      "Training Loop:   0%|▏                                                                                                                                                                | 4/5000 [00:00<02:43, 30.63it/s]\u001b[A"
     ]
    },
    {
     "name": "stdout",
     "output_type": "stream",
     "text": [
      "finish training for MIKernelEstimator with true MI value = 6.000000\n"
     ]
    },
    {
     "name": "stderr",
     "output_type": "stream",
     "text": [
      "Training Loop: 100%|██████████████████████████████████████████████████████████████████████████████████████████████████████████████████████████████████████████████████████████████| 5000/5000 [02:39<00:00, 31.40it/s]\n",
      "\n",
      "Training Loop:   0%|▏                                                                                                                                                                | 4/5000 [00:00<02:40, 31.22it/s]\u001b[A"
     ]
    },
    {
     "name": "stdout",
     "output_type": "stream",
     "text": [
      "finish training for MIKernelEstimator with true MI value = 8.000000\n"
     ]
    },
    {
     "name": "stderr",
     "output_type": "stream",
     "text": [
      "Training Loop: 100%|██████████████████████████████████████████████████████████████████████████████████████████████████████████████████████████████████████████████████████████████| 5000/5000 [02:39<00:00, 31.32it/s]\n",
      "\n",
      "MI: 100%|██████████████████████████████████████████████████████████████████████████████████████████████████████████████████████████████████████████████████████████████████████████████| 5/5 [13:21<00:00, 160.37s/it]\u001b[A\n",
      "Models: 100%|██████████████████████████████████████████████████████████████████████████████████████████████████████████████████████████████████████████████████████████████████████████| 2/2 [15:50<00:00, 475.10s/it]\n",
      "2it [00:00, 1811.40it/s]\n"
     ]
    },
    {
     "name": "stdout",
     "output_type": "stream",
     "text": [
      "finish training for MIKernelEstimator with true MI value = 10.000000\n",
      "model KNIFE average time cost is 0.032074 s\n",
      "Second part\n"
     ]
    },
    {
     "name": "stderr",
     "output_type": "stream",
     "text": [
      "Models:   0%|                                                                                                                                                                                   | 0/2 [00:00<?, ?it/s]\n",
      "Training Loop: 100%|█████████████████████████████████████████████████████████████████████████████████████████████████████████████████████████████████████████████████████████████| 5000/5000 [00:30<00:00, 165.28it/s]\u001b[A\n",
      "\n",
      "Training Loop:   0%|▌                                                                                                                                                              | 17/5000 [00:00<00:29, 168.09it/s]\u001b[A"
     ]
    },
    {
     "name": "stdout",
     "output_type": "stream",
     "text": [
      "finish training for TUBA with true MI value = 2.000000\n"
     ]
    },
    {
     "name": "stderr",
     "output_type": "stream",
     "text": [
      "Training Loop: 100%|█████████████████████████████████████████████████████████████████████████████████████████████████████████████████████████████████████████████████████████████| 5000/5000 [00:30<00:00, 166.60it/s]\n",
      "\n",
      "Training Loop:   0%|▌                                                                                                                                                              | 17/5000 [00:00<00:29, 167.99it/s]\u001b[A"
     ]
    },
    {
     "name": "stdout",
     "output_type": "stream",
     "text": [
      "finish training for TUBA with true MI value = 4.000000\n"
     ]
    },
    {
     "name": "stderr",
     "output_type": "stream",
     "text": [
      "Training Loop: 100%|█████████████████████████████████████████████████████████████████████████████████████████████████████████████████████████████████████████████████████████████| 5000/5000 [00:29<00:00, 168.39it/s]\n",
      "\n",
      "Training Loop:   0%|▌                                                                                                                                                              | 17/5000 [00:00<00:29, 169.31it/s]\u001b[A"
     ]
    },
    {
     "name": "stdout",
     "output_type": "stream",
     "text": [
      "finish training for TUBA with true MI value = 6.000000\n"
     ]
    },
    {
     "name": "stderr",
     "output_type": "stream",
     "text": [
      "Training Loop: 100%|█████████████████████████████████████████████████████████████████████████████████████████████████████████████████████████████████████████████████████████████| 5000/5000 [00:29<00:00, 168.49it/s]\n",
      "\n",
      "Training Loop:   0%|▌                                                                                                                                                              | 18/5000 [00:00<00:28, 172.60it/s]\u001b[A"
     ]
    },
    {
     "name": "stdout",
     "output_type": "stream",
     "text": [
      "finish training for TUBA with true MI value = 8.000000\n"
     ]
    },
    {
     "name": "stderr",
     "output_type": "stream",
     "text": [
      "Training Loop: 100%|█████████████████████████████████████████████████████████████████████████████████████████████████████████████████████████████████████████████████████████████| 5000/5000 [00:29<00:00, 168.75it/s]\n",
      "\n",
      "MI: 100%|███████████████████████████████████████████████████████████████████████████████████████████████████████████████████████████████████████████████████████████████████████████████| 5/5 [02:29<00:00, 29.85s/it]\u001b[A\n",
      "Models:  50%|█████████████████████████████████████████████████████████████████████████████████████                                                                                     | 1/2 [02:29<02:29, 149.27s/it]\n",
      "Training Loop:   0%|▏                                                                                                                                                                | 4/5000 [00:00<02:37, 31.81it/s]\u001b[A"
     ]
    },
    {
     "name": "stdout",
     "output_type": "stream",
     "text": [
      "finish training for TUBA with true MI value = 10.000000\n",
      "model TUBA average time cost is 0.005971 s\n"
     ]
    },
    {
     "name": "stderr",
     "output_type": "stream",
     "text": [
      "Training Loop: 100%|██████████████████████████████████████████████████████████████████████████████████████████████████████████████████████████████████████████████████████████████| 5000/5000 [02:38<00:00, 31.55it/s]\n",
      "\n",
      "Training Loop:   0%|▏                                                                                                                                                                | 4/5000 [00:00<02:37, 31.78it/s]\u001b[A"
     ]
    },
    {
     "name": "stdout",
     "output_type": "stream",
     "text": [
      "finish training for MIKernelEstimator with true MI value = 2.000000\n"
     ]
    },
    {
     "name": "stderr",
     "output_type": "stream",
     "text": [
      "Training Loop: 100%|██████████████████████████████████████████████████████████████████████████████████████████████████████████████████████████████████████████████████████████████| 5000/5000 [02:37<00:00, 31.84it/s]\n",
      "\n",
      "Training Loop:   0%|▏                                                                                                                                                                | 4/5000 [00:00<02:34, 32.32it/s]\u001b[A"
     ]
    },
    {
     "name": "stdout",
     "output_type": "stream",
     "text": [
      "finish training for MIKernelEstimator with true MI value = 4.000000\n"
     ]
    },
    {
     "name": "stderr",
     "output_type": "stream",
     "text": [
      "Training Loop: 100%|██████████████████████████████████████████████████████████████████████████████████████████████████████████████████████████████████████████████████████████████| 5000/5000 [02:36<00:00, 31.94it/s]\n",
      "\n",
      "Training Loop:   0%|▏                                                                                                                                                                | 4/5000 [00:00<02:35, 32.19it/s]\u001b[A"
     ]
    },
    {
     "name": "stdout",
     "output_type": "stream",
     "text": [
      "finish training for MIKernelEstimator with true MI value = 6.000000\n"
     ]
    },
    {
     "name": "stderr",
     "output_type": "stream",
     "text": [
      "Training Loop: 100%|██████████████████████████████████████████████████████████████████████████████████████████████████████████████████████████████████████████████████████████████| 5000/5000 [02:38<00:00, 31.51it/s]\n",
      "\n",
      "Training Loop:   0%|                                                                                                                                                                 | 3/5000 [00:00<02:51, 29.15it/s]\u001b[A"
     ]
    },
    {
     "name": "stdout",
     "output_type": "stream",
     "text": [
      "finish training for MIKernelEstimator with true MI value = 8.000000\n"
     ]
    },
    {
     "name": "stderr",
     "output_type": "stream",
     "text": [
      "Training Loop: 100%|██████████████████████████████████████████████████████████████████████████████████████████████████████████████████████████████████████████████████████████████| 5000/5000 [02:36<00:00, 31.86it/s]\n",
      "\n",
      "MI: 100%|██████████████████████████████████████████████████████████████████████████████████████████████████████████████████████████████████████████████████████████████████████████████| 5/5 [13:07<00:00, 157.53s/it]\u001b[A\n",
      "Models: 100%|██████████████████████████████████████████████████████████████████████████████████████████████████████████████████████████████████████████████████████████████████████████| 2/2 [15:36<00:00, 468.47s/it]\n",
      "2it [00:00, 2181.13it/s]\n"
     ]
    },
    {
     "name": "stdout",
     "output_type": "stream",
     "text": [
      "finish training for MIKernelEstimator with true MI value = 10.000000\n",
      "model KNIFE average time cost is 0.031507 s\n",
      "Second part\n"
     ]
    },
    {
     "name": "stderr",
     "output_type": "stream",
     "text": [
      "Models:   0%|                                                                                                                                                                                   | 0/2 [00:00<?, ?it/s]\n",
      "Training Loop: 100%|█████████████████████████████████████████████████████████████████████████████████████████████████████████████████████████████████████████████████████████████| 5000/5000 [00:29<00:00, 169.83it/s]\u001b[A\n",
      "\n",
      "Training Loop:   0%|▌                                                                                                                                                              | 18/5000 [00:00<00:28, 172.33it/s]\u001b[A"
     ]
    },
    {
     "name": "stdout",
     "output_type": "stream",
     "text": [
      "finish training for TUBA with true MI value = 2.000000\n"
     ]
    },
    {
     "name": "stderr",
     "output_type": "stream",
     "text": [
      "Training Loop:  99%|████████████████████████████████████████████████████████████████████████████████████████████████████████████████████████████████████████████████████████████▏| 4973/5000 [00:30<00:00, 166.26it/s]"
     ]
    }
   ],
   "source": [
    "# Gaussian\n",
    "main(False)"
   ]
  },
  {
   "cell_type": "code",
   "execution_count": null,
   "metadata": {},
   "outputs": [],
   "source": [
    "# Cubed Y\n",
    "main(True)"
   ]
  },
  {
   "cell_type": "markdown",
   "metadata": {},
   "source": [
    "### MI estimation of uniformly distributed random variables in Section 3.2.2"
   ]
  },
  {
   "cell_type": "code",
   "execution_count": null,
   "metadata": {},
   "outputs": [],
   "source": [
    "args = get_args([])\n",
    "args.dim = 20\n",
    "args.I = 0.1\n",
    "args.I_max = 0.5\n",
    "args.N = 128\n",
    "args.steps = 20000\n",
    "args.nruns = 1\n",
    "args.c = 1\n",
    "args.layers = 1\n",
    "args.pickle = 'model.p'\n",
    "args.cuda = cuda\n",
    "args.run_id = 1\n",
    "args.pdf = 'uniform'\n",
    "args.nruns = 1\n",
    "\n",
    "log_dir = meta_main(args)\n",
    "\n",
    "# Collect the best run for each method\n",
    "collect_mi(join(log_dir, 'summary.json'))\n"
   ]
  },
  {
   "cell_type": "code",
   "execution_count": null,
   "metadata": {},
   "outputs": [],
   "source": [
    "\n",
    "# Plot Traiing Run\n",
    "plot_mi_run(join(log_dir, 'collected.json'), show=True, save=False)\n",
    "# Plot Bias, MSE, Variance\n",
    "plot_mi_bias_var_mse(join(log_dir, 'collected.json'), show=True, save=False)"
   ]
  },
  {
   "cell_type": "code",
   "execution_count": null,
   "metadata": {},
   "outputs": [],
   "source": []
  }
 ],
 "metadata": {
  "kernelspec": {
   "display_name": "Python 3 (ipykernel)",
   "language": "python",
   "name": "python3"
  },
  "language_info": {
   "codemirror_mode": {
    "name": "ipython",
    "version": 3
   },
   "file_extension": ".py",
   "mimetype": "text/x-python",
   "name": "python",
   "nbconvert_exporter": "python",
   "pygments_lexer": "ipython3",
   "version": "3.9.7"
  }
 },
 "nbformat": 4,
 "nbformat_minor": 4
}
